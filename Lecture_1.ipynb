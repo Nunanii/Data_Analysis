{
  "nbformat": 4,
  "nbformat_minor": 0,
  "metadata": {
    "colab": {
      "provenance": []
    },
    "kernelspec": {
      "name": "python3",
      "display_name": "Python 3"
    },
    "language_info": {
      "name": "python"
    }
  },
  "cells": [
    {
      "cell_type": "markdown",
      "source": [
        "**Instructor : Ignatus Nunana Dorvi**\n",
        "\n",
        "Objectives\n",
        "\n",
        "1. Exploring Python libraries for data analysis\n",
        "2. Read data from multiple sources - csv, excel\n",
        "3. Cleaning and transforming data\n",
        "4. Visualisation and plots"
      ],
      "metadata": {
        "id": "rdmA5feFwn1K"
      }
    },
    {
      "cell_type": "markdown",
      "source": [
        "**Overview**\n",
        "\n",
        "1. What is Data?\n",
        "2. What is Data Analysis?\n",
        "\n",
        "---\n",
        "\n",
        "\n",
        "\n",
        "---\n",
        "\n",
        "Data Analytics tools\n",
        "1. Open Tools/ programming languages\n",
        " - Python\n",
        " - R\n",
        " -Julia\n",
        "\n",
        " 2. Closes source/ Auto-Managesd Tools\n",
        " - Excel\n",
        " -Tableau\n",
        "\n"
      ],
      "metadata": {
        "id": "bclfZPVuy1q7"
      }
    },
    {
      "cell_type": "markdown",
      "source": [
        "Why Python for data Analysis?\n"
      ],
      "metadata": {
        "id": "2ZfcIxsG119q"
      }
    },
    {
      "cell_type": "code",
      "source": [
        "print(\"Hello world\")"
      ],
      "metadata": {
        "id": "RYXtlTOU2BPc"
      },
      "execution_count": null,
      "outputs": []
    },
    {
      "cell_type": "markdown",
      "source": [
        "**Process of Data Analysis**"
      ],
      "metadata": {
        "id": "RFI6Ybcs1jYX"
      }
    },
    {
      "cell_type": "markdown",
      "source": [
        "A. Data extraction:\n",
        "   1. Database & API\n",
        "   2. curation - Manual, scrapping\n",
        "   3 Formats:\n",
        "      Comma-separated values (CSV),\n",
        "      EXCEL, JavaScript Object Notation (JSON),\n",
        "      Extensible Markup Language (XML)\n",
        "\n",
        "\n",
        "---\n",
        "\n",
        "\n",
        "\n",
        "B. Data Cleaning\n",
        "  1. Irrelevant data & outliers\n",
        "  2. Missing & empty data\n",
        "  3. Incorrect types\n",
        "\n",
        "\n",
        "\n",
        "---\n",
        "\n",
        "\n",
        "c. Data Wrangling\n",
        "  1. Handling Categorical data\n",
        "  2. Dropping, Merging & joining data\n",
        "  3. Reshaping & transforming structures\n",
        "  4. Indexing & rearranging\n",
        "\n",
        "\n",
        "\n",
        "---\n",
        "\n",
        "\n",
        "D. Data Analysis - extract patterns in data\n",
        "  1. Exploration\n",
        "  2. Visualisations- plots, graphs\n",
        "  3. Correlation\n",
        "\n",
        "\n",
        "\n",
        "---\n",
        "\n",
        "\n",
        "E. Building\n",
        "   1. Building statistical & predictive models- Machine learning, pipelines\n",
        "   2. Reporting & communication of results\n"
      ],
      "metadata": {
        "id": "AJ0xotgapB7q"
      }
    },
    {
      "cell_type": "code",
      "source": [],
      "metadata": {
        "id": "Ieci7t2JpEjr"
      },
      "execution_count": null,
      "outputs": []
    },
    {
      "cell_type": "markdown",
      "source": [
        "Libraries and tools\n",
        "\n",
        "1. Pandas - Main data manipulation tool\n",
        "2. Matplotlib & Seaborn - Visualisation and plots\n",
        "3. Numpy - Numerical library for calculations\n",
        "4. Scipy - scientific computing; linear algeria, image processing\n",
        "5. Scikit-learn - Machine learning library"
      ],
      "metadata": {
        "id": "lz_Q4l_L6sjK"
      }
    },
    {
      "cell_type": "markdown",
      "source": [
        "Import required Libaries"
      ],
      "metadata": {
        "id": "1StK7AUz9tjq"
      }
    },
    {
      "cell_type": "code",
      "source": [
        "#Install a tool: !pip install ..."
      ],
      "metadata": {
        "id": "yz-mLwB7nthy"
      },
      "execution_count": null,
      "outputs": []
    },
    {
      "cell_type": "code",
      "source": [
        "import numpy as np\n",
        "import pandas as pd\n",
        "import seaborn as sns\n",
        "import matplotlib.pyplot as plt\n",
        "\n",
        "%matplotlib inline"
      ],
      "metadata": {
        "id": "yzti9Fb-77QZ"
      },
      "execution_count": null,
      "outputs": []
    },
    {
      "cell_type": "markdown",
      "source": [
        "Import Data"
      ],
      "metadata": {
        "id": "UniI7yfP9yUI"
      }
    },
    {
      "cell_type": "code",
      "source": [
        "data = pd.read_csv(\"/content/Student Performance dataset.csv\") #read_csv"
      ],
      "metadata": {
        "id": "lzAKJOkDnwg5"
      },
      "execution_count": null,
      "outputs": []
    },
    {
      "cell_type": "markdown",
      "source": [
        "Import an excel file using pandas"
      ],
      "metadata": {
        "id": "-VcbbEse9_q7"
      }
    },
    {
      "cell_type": "code",
      "source": [
        "#How do I import an excel file using pandas?\n",
        "\n",
        "# your code goes here"
      ],
      "metadata": {
        "id": "mVp2vros9-ST"
      },
      "execution_count": null,
      "outputs": []
    },
    {
      "cell_type": "markdown",
      "source": [
        "Display data"
      ],
      "metadata": {
        "id": "wrjRvRej-StP"
      }
    },
    {
      "cell_type": "code",
      "source": [
        "data.head()  #displays first five rows of data"
      ],
      "metadata": {
        "id": "uCUfYeva-JBE"
      },
      "execution_count": null,
      "outputs": []
    },
    {
      "cell_type": "code",
      "source": [
        "data.head(10)"
      ],
      "metadata": {
        "id": "S1P-xUgc-aKa"
      },
      "execution_count": null,
      "outputs": []
    },
    {
      "cell_type": "code",
      "source": [
        "data.tail() #displays last five rows of data"
      ],
      "metadata": {
        "id": "jY-dw_20-dup"
      },
      "execution_count": null,
      "outputs": []
    },
    {
      "cell_type": "code",
      "source": [
        "data.shape"
      ],
      "metadata": {
        "id": "_ziIbZhi-5d4"
      },
      "execution_count": null,
      "outputs": []
    },
    {
      "cell_type": "code",
      "source": [
        "data.info() # data summary"
      ],
      "metadata": {
        "id": "HRB0w142_Sn7"
      },
      "execution_count": null,
      "outputs": []
    },
    {
      "cell_type": "code",
      "source": [
        "data.describe()"
      ],
      "metadata": {
        "id": "47cwehfe_I3g"
      },
      "execution_count": null,
      "outputs": []
    },
    {
      "cell_type": "markdown",
      "source": [
        "Features with NAN values"
      ],
      "metadata": {
        "id": "5xFaOyttrZZd"
      }
    },
    {
      "cell_type": "code",
      "source": [
        "data.isnull().sum()"
      ],
      "metadata": {
        "id": "T35d5QeQrYQF"
      },
      "execution_count": null,
      "outputs": []
    },
    {
      "cell_type": "markdown",
      "source": [
        "Remove Rows with NaN Values"
      ],
      "metadata": {
        "id": "Lwxe2o-_p0N7"
      }
    },
    {
      "cell_type": "code",
      "source": [
        "# Remove rows with NaN values\n",
        "data = data.dropna()"
      ],
      "metadata": {
        "id": "s00F_kQotdP0"
      },
      "execution_count": null,
      "outputs": []
    },
    {
      "cell_type": "code",
      "source": [
        "data.isnull().sum()"
      ],
      "metadata": {
        "id": "8MGSqcOwyJ8y"
      },
      "execution_count": null,
      "outputs": []
    },
    {
      "cell_type": "code",
      "source": [
        "data.shape"
      ],
      "metadata": {
        "id": "rrBQjye3yNug"
      },
      "execution_count": null,
      "outputs": []
    },
    {
      "cell_type": "code",
      "source": [
        "# Replace missing values with mean, median, max, min of each feature"
      ],
      "metadata": {
        "id": "yP0P8kH1ygwd"
      },
      "execution_count": null,
      "outputs": []
    },
    {
      "cell_type": "code",
      "source": [
        "# your codes here"
      ],
      "metadata": {
        "id": "F1I_jiDxyh1_"
      },
      "execution_count": null,
      "outputs": []
    },
    {
      "cell_type": "code",
      "source": [
        "data['Math'].fillna(data['Math'].mean())"
      ],
      "metadata": {
        "id": "MknPi6Beyj6g"
      },
      "execution_count": null,
      "outputs": []
    },
    {
      "cell_type": "markdown",
      "source": [
        "Extract all numeric columns"
      ],
      "metadata": {
        "id": "dEQXGGonyAsY"
      }
    },
    {
      "cell_type": "code",
      "source": [
        "# select numeric columns\n",
        "numeric_cols = data.select_dtypes(include=['int', 'float'])\n",
        "numeric_cols"
      ],
      "metadata": {
        "id": "uJxtcYEgqWR5"
      },
      "execution_count": null,
      "outputs": []
    },
    {
      "cell_type": "code",
      "source": [
        "data['Gender']  # aceess columns in data"
      ],
      "metadata": {
        "id": "BZ05Jlr5_gwr"
      },
      "execution_count": null,
      "outputs": []
    },
    {
      "cell_type": "markdown",
      "source": [
        "Determine the mean, std, count and the median of subclasses in Gender, Lunch and Study group"
      ],
      "metadata": {
        "id": "m5oBVScY_yHp"
      }
    },
    {
      "cell_type": "code",
      "source": [
        "# your code goes here"
      ],
      "metadata": {
        "id": "FxhD2Adjsgrs"
      },
      "execution_count": null,
      "outputs": []
    },
    {
      "cell_type": "code",
      "source": [
        "data['Gender'].describe()"
      ],
      "metadata": {
        "id": "ahcg5xSHAXNp"
      },
      "execution_count": null,
      "outputs": []
    },
    {
      "cell_type": "code",
      "source": [
        "data['Insert feature'].mean()\n",
        "data['Insert feature'].median()\n",
        "data['Insert feature'].mean()"
      ],
      "metadata": {
        "id": "vby5vwS-AfD8"
      },
      "execution_count": null,
      "outputs": []
    },
    {
      "cell_type": "markdown",
      "source": [
        "Data wrangling"
      ],
      "metadata": {
        "id": "SHR797GpCbZ9"
      }
    },
    {
      "cell_type": "code",
      "source": [
        "data"
      ],
      "metadata": {
        "id": "soN6-sEH0-CE"
      },
      "execution_count": null,
      "outputs": []
    },
    {
      "cell_type": "code",
      "source": [
        "#Adding a column to create new column\n",
        "data['Total_score'] = data['Math'] + data['Reading '] + data['Writing']\n",
        "data"
      ],
      "metadata": {
        "id": "HFONQFiZCdVE"
      },
      "execution_count": null,
      "outputs": []
    },
    {
      "cell_type": "markdown",
      "source": [
        "Create a new column called average by finding the average of math and writing"
      ],
      "metadata": {
        "id": "yecR_ElOC1nt"
      }
    },
    {
      "cell_type": "code",
      "source": [
        "#your codes here"
      ],
      "metadata": {
        "id": "qXDMBIgkDCUx"
      },
      "execution_count": null,
      "outputs": []
    },
    {
      "cell_type": "markdown",
      "source": [
        "Select specific colums when conditions are met"
      ],
      "metadata": {
        "id": "DS8jsOKcDXUX"
      }
    },
    {
      "cell_type": "code",
      "source": [
        "data.loc[data['Study group'] == 'group B'] #Get all the students in study group B"
      ],
      "metadata": {
        "id": "7sJWRDfHDPvG"
      },
      "execution_count": null,
      "outputs": []
    },
    {
      "cell_type": "code",
      "source": [
        "data.loc[data['Lunch'] == 'standard'].mean()"
      ],
      "metadata": {
        "id": "dI3c9TEbDl0c"
      },
      "execution_count": null,
      "outputs": []
    },
    {
      "cell_type": "markdown",
      "source": [
        "Analysing Categorical Features"
      ],
      "metadata": {
        "id": "xgmRKaRpBkKN"
      }
    },
    {
      "cell_type": "code",
      "source": [
        "data['Gender'].value_counts()"
      ],
      "metadata": {
        "id": "t_Ep8UY-Bzqh"
      },
      "execution_count": null,
      "outputs": []
    },
    {
      "cell_type": "markdown",
      "source": [
        "Convert Categorical features to numeric"
      ],
      "metadata": {
        "id": "miDdmlHV6H4k"
      }
    },
    {
      "cell_type": "markdown",
      "source": [
        "1. One-Hot Encoding:\n",
        "\n",
        "2. Label Encoding\n",
        "\n",
        "One-Hot Encoding generates several binary columns, according to the number of distinct categories, whereas Label Encoding only generates a single column for the categorical variable"
      ],
      "metadata": {
        "id": "txraa_XU6aL6"
      }
    },
    {
      "cell_type": "code",
      "source": [
        "# Create a mapping for label encoding\n",
        "mapp = {'female': 0, 'male': 1}\n",
        "\n",
        "# Apply label encoding\n",
        "data['Gender'] = data['Gender'].map(mapp)"
      ],
      "metadata": {
        "id": "u4Ri4sKL6GyC"
      },
      "execution_count": null,
      "outputs": []
    },
    {
      "cell_type": "code",
      "source": [
        "data"
      ],
      "metadata": {
        "id": "5QIxXdLV8sCg"
      },
      "execution_count": null,
      "outputs": []
    },
    {
      "cell_type": "code",
      "source": [
        "#write codes using one-hot encoding method to convert Study group to numeric"
      ],
      "metadata": {
        "id": "q5IDylqj9D8E"
      },
      "execution_count": null,
      "outputs": []
    },
    {
      "cell_type": "code",
      "source": [
        "#your codes here"
      ],
      "metadata": {
        "id": "MpI1lAHj9X80"
      },
      "execution_count": null,
      "outputs": []
    },
    {
      "cell_type": "markdown",
      "source": [
        "PLOTS"
      ],
      "metadata": {
        "id": "1ZakJEq_94YN"
      }
    },
    {
      "cell_type": "code",
      "source": [
        "data['Gender'].value_counts().plot(kind='pie', figsize=(6,6))  #pie plot"
      ],
      "metadata": {
        "id": "dvJ9jANkBm5W"
      },
      "execution_count": null,
      "outputs": []
    },
    {
      "cell_type": "markdown",
      "source": [
        "Scatter plots"
      ],
      "metadata": {
        "id": "mJ6QGqkICMlU"
      }
    },
    {
      "cell_type": "code",
      "source": [
        "data.plot(kind='scatter', x='Math', y='Reading ', figsize=(6,6))"
      ],
      "metadata": {
        "id": "bWB6E-7qCOiN"
      },
      "execution_count": null,
      "outputs": []
    },
    {
      "cell_type": "code",
      "source": [
        "data['Reading '].value_counts()"
      ],
      "metadata": {
        "id": "1em1u-weAcil"
      },
      "execution_count": null,
      "outputs": []
    },
    {
      "cell_type": "code",
      "source": [
        "ax = data['Study group'].value_counts().plot(kind='bar', figsize=(14,6))\n",
        "ax.set_ylabel('frequency')\n",
        "ax.set_xlabel('study Groups')\n",
        "ax.set_title('A bar plot of study group')"
      ],
      "metadata": {
        "id": "qk0dngqD_mcn"
      },
      "execution_count": null,
      "outputs": []
    },
    {
      "cell_type": "markdown",
      "source": [
        "Correlation plots"
      ],
      "metadata": {
        "id": "VZ-xKTPtB5AM"
      }
    },
    {
      "cell_type": "code",
      "source": [
        "corr = data.corr()\n",
        "corr"
      ],
      "metadata": {
        "id": "idwTj4H6B4tR"
      },
      "execution_count": null,
      "outputs": []
    },
    {
      "cell_type": "code",
      "source": [
        "fig = plt.figure(figsize=(8,8))\n",
        "plt.matshow(corr, cmap='RdBu', fignum=fig.number)\n",
        "plt.xticks(range(len(corr.columns)), corr.columns, rotation='vertical');\n",
        "plt.yticks(range(len(corr.columns)), corr.columns);"
      ],
      "metadata": {
        "id": "M-xJ8ydYCDn3"
      },
      "execution_count": null,
      "outputs": []
    }
  ]
}